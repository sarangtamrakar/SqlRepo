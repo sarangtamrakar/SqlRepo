{
 "cells": [
  {
   "cell_type": "raw",
   "metadata": {},
   "source": [
    "SQL Tutorial\n",
    "SQL HOME\n",
    "SQL Intro\n",
    "SQL Syntax\n",
    "SQL Select\n",
    "SQL Select Distinct\n",
    "SQL Where\n",
    "SQL And, Or, Not\n",
    "SQL Order By\n",
    "SQL Insert Into\n",
    "SQL Null Values\n",
    "SQL Update\n",
    "SQL Delete\n",
    "SQL Select Top\n",
    "SQL Min and Max\n",
    "SQL Count, Avg, Sum\n",
    "SQL Like\n",
    "SQL Wildcards\n",
    "SQL In\n",
    "SQL Between\n",
    "SQL Aliases\n",
    "SQL Joins\n",
    "SQL Inner Join\n",
    "SQL Left Join\n",
    "SQL Right Join\n",
    "SQL Full Join\n",
    "SQL Self Join\n",
    "SQL Union\n",
    "SQL Group By\n",
    "SQL Having\n",
    "SQL Exists\n",
    "SQL Any, All\n",
    "SQL Select Into\n",
    "SQL Insert Into Select\n",
    "SQL Case\n",
    "SQL Null Functions\n",
    "SQL Stored Procedures\n",
    "SQL Comments\n",
    "SQL Operators\n",
    "\n",
    "SQL Database\n",
    "SQL Create DB\n",
    "SQL Drop DB\n",
    "SQL Backup DB\n",
    "SQL Create Table\n",
    "SQL Drop Table\n",
    "SQL Alter Table\n",
    "SQL Constraints\n",
    "SQL Not Null\n",
    "SQL Unique\n",
    "SQL Primary Key\n",
    "SQL Foreign Key\n",
    "SQL Check\n",
    "SQL Default\n",
    "SQL Index\n",
    "SQL Auto Increment\n",
    "SQL Dates\n",
    "SQL Views\n",
    "SQL Injection\n",
    "SQL Hosting\n",
    "SQL Data Types"
   ]
  },
  {
   "cell_type": "markdown",
   "metadata": {},
   "source": [
    "###### importing the sqlite3"
   ]
  },
  {
   "cell_type": "code",
   "execution_count": 41,
   "metadata": {},
   "outputs": [],
   "source": [
    "import sqlite3\n",
    "import pandas as pd"
   ]
  },
  {
   "cell_type": "markdown",
   "metadata": {},
   "source": [
    "###### connection with sqlite3 database"
   ]
  },
  {
   "cell_type": "code",
   "execution_count": 43,
   "metadata": {},
   "outputs": [],
   "source": [
    "conn = sqlite3.connect(\"mini.db\")"
   ]
  },
  {
   "cell_type": "markdown",
   "metadata": {},
   "source": [
    "###### for writing the quaries, first we have to create the cursor"
   ]
  },
  {
   "cell_type": "code",
   "execution_count": 44,
   "metadata": {},
   "outputs": [],
   "source": [
    "cur = conn.cursor()"
   ]
  },
  {
   "cell_type": "markdown",
   "metadata": {},
   "source": [
    "#### For writing the quaries we will use the execute function\n",
    "GETTING THE LIST OF TABLES NAMES FROM DATABASE"
   ]
  },
  {
   "cell_type": "code",
   "execution_count": 45,
   "metadata": {},
   "outputs": [],
   "source": [
    "a = cur.execute(\"SELECT name FROM sqlite_master WHERE type='table'\")"
   ]
  },
  {
   "cell_type": "markdown",
   "metadata": {},
   "source": [
    "###### FOR FATCHING THE DATA FROM EXECUTED QUARIES WE WILL USE fetchall() or fetchone() or fetchmany()"
   ]
  },
  {
   "cell_type": "code",
   "execution_count": 46,
   "metadata": {},
   "outputs": [
    {
     "data": {
      "text/plain": [
       "[('ayushi',),\n",
       " ('sarang1',),\n",
       " ('ayushi1',),\n",
       " ('PAGAL1',),\n",
       " ('gunnu1',),\n",
       " ('gunnu2',)]"
      ]
     },
     "execution_count": 46,
     "metadata": {},
     "output_type": "execute_result"
    }
   ],
   "source": [
    "a.fetchall()"
   ]
  },
  {
   "cell_type": "markdown",
   "metadata": {},
   "source": [
    "###### GETTING THE NO. OF TABLES PRESENT IN DATABASE"
   ]
  },
  {
   "cell_type": "code",
   "execution_count": 47,
   "metadata": {},
   "outputs": [
    {
     "data": {
      "text/plain": [
       "6"
      ]
     },
     "execution_count": 47,
     "metadata": {},
     "output_type": "execute_result"
    }
   ],
   "source": [
    "a = cur.execute(\"SELECT COUNT(name) FROM sqlite_master WHERE type='table'\")\n",
    "a.fetchone()[0]"
   ]
  },
  {
   "cell_type": "markdown",
   "metadata": {},
   "source": [
    "###### CREATE TABLE"
   ]
  },
  {
   "cell_type": "code",
   "execution_count": 18,
   "metadata": {},
   "outputs": [
    {
     "data": {
      "text/plain": [
       "<sqlite3.Cursor at 0x2f0ac040ab0>"
      ]
     },
     "execution_count": 18,
     "metadata": {},
     "output_type": "execute_result"
    }
   ],
   "source": [
    "cur.execute(\"CREATE TABLE IF NOT EXISTS ayushi1(name varchar,age integer,gender varchar)\")"
   ]
  },
  {
   "cell_type": "markdown",
   "metadata": {},
   "source": [
    "###### Visualize the table into the pandas dataframe"
   ]
  },
  {
   "cell_type": "code",
   "execution_count": 19,
   "metadata": {},
   "outputs": [
    {
     "data": {
      "text/html": [
       "<div>\n",
       "<style scoped>\n",
       "    .dataframe tbody tr th:only-of-type {\n",
       "        vertical-align: middle;\n",
       "    }\n",
       "\n",
       "    .dataframe tbody tr th {\n",
       "        vertical-align: top;\n",
       "    }\n",
       "\n",
       "    .dataframe thead th {\n",
       "        text-align: right;\n",
       "    }\n",
       "</style>\n",
       "<table border=\"1\" class=\"dataframe\">\n",
       "  <thead>\n",
       "    <tr style=\"text-align: right;\">\n",
       "      <th></th>\n",
       "      <th>name</th>\n",
       "      <th>age</th>\n",
       "      <th>gender</th>\n",
       "    </tr>\n",
       "  </thead>\n",
       "  <tbody>\n",
       "  </tbody>\n",
       "</table>\n",
       "</div>"
      ],
      "text/plain": [
       "Empty DataFrame\n",
       "Columns: [name, age, gender]\n",
       "Index: []"
      ]
     },
     "execution_count": 19,
     "metadata": {},
     "output_type": "execute_result"
    }
   ],
   "source": [
    "# pd.read_sql(\"write quary here\",connection obj)\n",
    "pd.read_sql(\"select * from ayushi1\",conn)"
   ]
  },
  {
   "cell_type": "markdown",
   "metadata": {},
   "source": [
    "###### Insert into table ,,,,*COMMIT IS NECESSARY*"
   ]
  },
  {
   "cell_type": "code",
   "execution_count": 129,
   "metadata": {},
   "outputs": [],
   "source": [
    "cur.execute(\"insert into ayushi1 values('babu1',12,'M')\")\n",
    "cur.execute(\"insert into ayushi1 values('kalyani1',12,'M')\")\n",
    "cur.execute(\"insert into ayushi1 values('babu2',12,'M')\")\n",
    "cur.execute(\"insert into ayushi1 values('kalyani2',12,'M')\")\n",
    "conn.commit()"
   ]
  },
  {
   "cell_type": "code",
   "execution_count": 130,
   "metadata": {},
   "outputs": [
    {
     "data": {
      "text/html": [
       "<div>\n",
       "<style scoped>\n",
       "    .dataframe tbody tr th:only-of-type {\n",
       "        vertical-align: middle;\n",
       "    }\n",
       "\n",
       "    .dataframe tbody tr th {\n",
       "        vertical-align: top;\n",
       "    }\n",
       "\n",
       "    .dataframe thead th {\n",
       "        text-align: right;\n",
       "    }\n",
       "</style>\n",
       "<table border=\"1\" class=\"dataframe\">\n",
       "  <thead>\n",
       "    <tr style=\"text-align: right;\">\n",
       "      <th></th>\n",
       "      <th>name</th>\n",
       "      <th>age</th>\n",
       "      <th>gender</th>\n",
       "    </tr>\n",
       "  </thead>\n",
       "  <tbody>\n",
       "    <tr>\n",
       "      <th>0</th>\n",
       "      <td>babu1</td>\n",
       "      <td>12</td>\n",
       "      <td>M</td>\n",
       "    </tr>\n",
       "    <tr>\n",
       "      <th>1</th>\n",
       "      <td>kalyani1</td>\n",
       "      <td>12</td>\n",
       "      <td>M</td>\n",
       "    </tr>\n",
       "    <tr>\n",
       "      <th>2</th>\n",
       "      <td>babu2</td>\n",
       "      <td>12</td>\n",
       "      <td>M</td>\n",
       "    </tr>\n",
       "    <tr>\n",
       "      <th>3</th>\n",
       "      <td>kalyani2</td>\n",
       "      <td>12</td>\n",
       "      <td>M</td>\n",
       "    </tr>\n",
       "  </tbody>\n",
       "</table>\n",
       "</div>"
      ],
      "text/plain": [
       "       name  age gender\n",
       "0     babu1   12      M\n",
       "1  kalyani1   12      M\n",
       "2     babu2   12      M\n",
       "3  kalyani2   12      M"
      ]
     },
     "execution_count": 130,
     "metadata": {},
     "output_type": "execute_result"
    }
   ],
   "source": [
    "# look into table again\n",
    "pd.read_sql(\"select * from ayushi1\",conn)"
   ]
  },
  {
   "cell_type": "markdown",
   "metadata": {},
   "source": [
    "###### UPDATE"
   ]
  },
  {
   "cell_type": "code",
   "execution_count": 132,
   "metadata": {},
   "outputs": [
    {
     "data": {
      "text/plain": [
       "<sqlite3.Cursor at 0x2f0ac040ab0>"
      ]
     },
     "execution_count": 132,
     "metadata": {},
     "output_type": "execute_result"
    }
   ],
   "source": [
    "cur.execute(\"update ayushi1 set age = 22,gender = 'F' where name = 'kalyani1'\")"
   ]
  },
  {
   "cell_type": "markdown",
   "metadata": {},
   "source": [
    "###### SELECT"
   ]
  },
  {
   "cell_type": "code",
   "execution_count": 133,
   "metadata": {},
   "outputs": [
    {
     "name": "stdout",
     "output_type": "stream",
     "text": [
      "('babu1', 12, 'M')\n",
      "('kalyani1', 22, 'F')\n",
      "('babu2', 12, 'M')\n",
      "('kalyani2', 12, 'M')\n"
     ]
    }
   ],
   "source": [
    "cur.execute(\"select * from ayushi1\")\n",
    "rows = cur.fetchall()\n",
    "for row in rows:\n",
    "    print(row)"
   ]
  },
  {
   "cell_type": "markdown",
   "metadata": {},
   "source": [
    "###### Getting the column names of table"
   ]
  },
  {
   "cell_type": "code",
   "execution_count": 134,
   "metadata": {},
   "outputs": [
    {
     "data": {
      "text/plain": [
       "['name', 'age', 'gender']"
      ]
     },
     "execution_count": 134,
     "metadata": {},
     "output_type": "execute_result"
    }
   ],
   "source": [
    "cur.execute(\"select * from ayushi1\")\n",
    "headers = []\n",
    "for col in cur.description:\n",
    "    headers.append(col[0])\n",
    "headers"
   ]
  },
  {
   "cell_type": "markdown",
   "metadata": {},
   "source": [
    "###### Creating the the .csv file from db table"
   ]
  },
  {
   "cell_type": "code",
   "execution_count": 135,
   "metadata": {},
   "outputs": [],
   "source": [
    "import csv\n",
    "with open(\"myfile.csv\",'w') as file:\n",
    "    writer = csv.writer(file,delimiter=',',lineterminator=\"\\n\",quoting=csv.QUOTE_ALL)\n",
    "    cur.execute(\"select * from ayushi1\")\n",
    "    rows = cur.fetchall()\n",
    "    writer.writerow(headers)\n",
    "    writer.writerows(rows)\n",
    "    file.close()"
   ]
  },
  {
   "cell_type": "code",
   "execution_count": 136,
   "metadata": {},
   "outputs": [
    {
     "data": {
      "text/html": [
       "<div>\n",
       "<style scoped>\n",
       "    .dataframe tbody tr th:only-of-type {\n",
       "        vertical-align: middle;\n",
       "    }\n",
       "\n",
       "    .dataframe tbody tr th {\n",
       "        vertical-align: top;\n",
       "    }\n",
       "\n",
       "    .dataframe thead th {\n",
       "        text-align: right;\n",
       "    }\n",
       "</style>\n",
       "<table border=\"1\" class=\"dataframe\">\n",
       "  <thead>\n",
       "    <tr style=\"text-align: right;\">\n",
       "      <th></th>\n",
       "      <th>name</th>\n",
       "      <th>age</th>\n",
       "      <th>gender</th>\n",
       "    </tr>\n",
       "  </thead>\n",
       "  <tbody>\n",
       "    <tr>\n",
       "      <th>0</th>\n",
       "      <td>babu1</td>\n",
       "      <td>12</td>\n",
       "      <td>M</td>\n",
       "    </tr>\n",
       "    <tr>\n",
       "      <th>1</th>\n",
       "      <td>kalyani1</td>\n",
       "      <td>22</td>\n",
       "      <td>F</td>\n",
       "    </tr>\n",
       "    <tr>\n",
       "      <th>2</th>\n",
       "      <td>babu2</td>\n",
       "      <td>12</td>\n",
       "      <td>M</td>\n",
       "    </tr>\n",
       "    <tr>\n",
       "      <th>3</th>\n",
       "      <td>kalyani2</td>\n",
       "      <td>12</td>\n",
       "      <td>M</td>\n",
       "    </tr>\n",
       "  </tbody>\n",
       "</table>\n",
       "</div>"
      ],
      "text/plain": [
       "       name  age gender\n",
       "0     babu1   12      M\n",
       "1  kalyani1   22      F\n",
       "2     babu2   12      M\n",
       "3  kalyani2   12      M"
      ]
     },
     "execution_count": 136,
     "metadata": {},
     "output_type": "execute_result"
    }
   ],
   "source": [
    "pd.read_csv(\"myfile.csv\")"
   ]
  },
  {
   "cell_type": "code",
   "execution_count": 137,
   "metadata": {},
   "outputs": [
    {
     "name": "stdout",
     "output_type": "stream",
     "text": [
      "['name', 'age', 'gender']\n",
      "['babu1', '12', 'M']\n",
      "['kalyani1', '22', 'F']\n",
      "['babu2', '12', 'M']\n",
      "['kalyani2', '12', 'M']\n"
     ]
    }
   ],
   "source": [
    "with open(\"myfile.csv\",'r') as file:\n",
    "    reader = csv.reader(file,delimiter=',',lineterminator=\"\\t\")\n",
    "    for row in reader:\n",
    "        print(row)\n",
    "    file.close()"
   ]
  },
  {
   "cell_type": "markdown",
   "metadata": {},
   "source": [
    "###### DELETE"
   ]
  },
  {
   "cell_type": "code",
   "execution_count": 138,
   "metadata": {},
   "outputs": [
    {
     "data": {
      "text/plain": [
       "<sqlite3.Cursor at 0x2f0ac040ab0>"
      ]
     },
     "execution_count": 138,
     "metadata": {},
     "output_type": "execute_result"
    }
   ],
   "source": [
    "\"\"\"DELETE PARTICULAR ROW\"\"\"\n",
    "cur.execute(\"DELETE FROM ayushi1 WHERE name = 'kalyani1'\")"
   ]
  },
  {
   "cell_type": "code",
   "execution_count": 139,
   "metadata": {},
   "outputs": [
    {
     "data": {
      "text/plain": [
       "<sqlite3.Cursor at 0x2f0ac040ab0>"
      ]
     },
     "execution_count": 139,
     "metadata": {},
     "output_type": "execute_result"
    }
   ],
   "source": [
    "\"\"\"DELETE ALL ROWS\"\"\"\n",
    "cur.execute(\"DELETE FROM ayushi1\")"
   ]
  },
  {
   "cell_type": "markdown",
   "metadata": {},
   "source": [
    "###### DROP TABLE"
   ]
  },
  {
   "cell_type": "code",
   "execution_count": 143,
   "metadata": {},
   "outputs": [
    {
     "data": {
      "text/plain": [
       "<sqlite3.Cursor at 0x2f0ac040ab0>"
      ]
     },
     "execution_count": 143,
     "metadata": {},
     "output_type": "execute_result"
    }
   ],
   "source": [
    "cur.execute(\"DROP TABLE ayushi1\")"
   ]
  },
  {
   "cell_type": "code",
   "execution_count": 149,
   "metadata": {},
   "outputs": [],
   "source": [
    "a = cur.execute(\"select name from sqlite_master where type = 'table'\")"
   ]
  },
  {
   "cell_type": "code",
   "execution_count": 150,
   "metadata": {},
   "outputs": [
    {
     "data": {
      "text/plain": [
       "[('ayushi',), ('sarang1',)]"
      ]
     },
     "execution_count": 150,
     "metadata": {},
     "output_type": "execute_result"
    }
   ],
   "source": [
    "a.fetchall() # now ayushi1 table has gone"
   ]
  },
  {
   "cell_type": "markdown",
   "metadata": {},
   "source": [
    "###### Difference between DROP & DELETE\n",
    "###### DROP DELETE THE COMPLETE TABLE  WHILE DELETE JUST DELETE THE ROWS FROM TABLE"
   ]
  },
  {
   "cell_type": "code",
   "execution_count": null,
   "metadata": {},
   "outputs": [],
   "source": []
  },
  {
   "cell_type": "markdown",
   "metadata": {},
   "source": [
    "###### ALTER TABLE"
   ]
  },
  {
   "cell_type": "markdown",
   "metadata": {},
   "source": [
    "##### The ALTER TABLE statement is used to add, delete, or modify columns in an existing table\n",
    "\n",
    "The ALTER TABLE statement is also used to add and drop various constraints on an existing table."
   ]
  },
  {
   "cell_type": "markdown",
   "metadata": {},
   "source": [
    "####### Unlike SQL-standard and other database systems, SQLite supports a very limited functionality of the ALTER TABLE statement.\n",
    "\n",
    "By using an SQLite ALTER TABLE statement, you can perform two actions:\n",
    "\n",
    "Rename a table.\n",
    "Add a new column to a table.\n",
    "Rename a column (added supported in version 3.20.0)"
   ]
  },
  {
   "cell_type": "code",
   "execution_count": 4,
   "metadata": {},
   "outputs": [
    {
     "data": {
      "text/plain": [
       "<sqlite3.Cursor at 0x22266968ce0>"
      ]
     },
     "execution_count": 4,
     "metadata": {},
     "output_type": "execute_result"
    }
   ],
   "source": [
    "cur.execute(\"CREATE TABLE bittu1(ID INTEGER auto_increment,name varchar,age integer)\")"
   ]
  },
  {
   "cell_type": "code",
   "execution_count": 5,
   "metadata": {},
   "outputs": [
    {
     "data": {
      "text/html": [
       "<div>\n",
       "<style scoped>\n",
       "    .dataframe tbody tr th:only-of-type {\n",
       "        vertical-align: middle;\n",
       "    }\n",
       "\n",
       "    .dataframe tbody tr th {\n",
       "        vertical-align: top;\n",
       "    }\n",
       "\n",
       "    .dataframe thead th {\n",
       "        text-align: right;\n",
       "    }\n",
       "</style>\n",
       "<table border=\"1\" class=\"dataframe\">\n",
       "  <thead>\n",
       "    <tr style=\"text-align: right;\">\n",
       "      <th></th>\n",
       "      <th>ID</th>\n",
       "      <th>name</th>\n",
       "      <th>age</th>\n",
       "    </tr>\n",
       "  </thead>\n",
       "  <tbody>\n",
       "  </tbody>\n",
       "</table>\n",
       "</div>"
      ],
      "text/plain": [
       "Empty DataFrame\n",
       "Columns: [ID, name, age]\n",
       "Index: []"
      ]
     },
     "execution_count": 5,
     "metadata": {},
     "output_type": "execute_result"
    }
   ],
   "source": [
    "pd.read_sql_query(\"select * from bittu1\",conn)"
   ]
  },
  {
   "cell_type": "markdown",
   "metadata": {},
   "source": [
    "###### ALTER TABLE ===> ADD"
   ]
  },
  {
   "cell_type": "code",
   "execution_count": 6,
   "metadata": {},
   "outputs": [
    {
     "data": {
      "text/plain": [
       "<sqlite3.Cursor at 0x22266968ce0>"
      ]
     },
     "execution_count": 6,
     "metadata": {},
     "output_type": "execute_result"
    }
   ],
   "source": [
    "cur.execute(\"ALTER TABLE bittu1 ADD gender varchar\")"
   ]
  },
  {
   "cell_type": "code",
   "execution_count": 12,
   "metadata": {},
   "outputs": [
    {
     "data": {
      "text/html": [
       "<div>\n",
       "<style scoped>\n",
       "    .dataframe tbody tr th:only-of-type {\n",
       "        vertical-align: middle;\n",
       "    }\n",
       "\n",
       "    .dataframe tbody tr th {\n",
       "        vertical-align: top;\n",
       "    }\n",
       "\n",
       "    .dataframe thead th {\n",
       "        text-align: right;\n",
       "    }\n",
       "</style>\n",
       "<table border=\"1\" class=\"dataframe\">\n",
       "  <thead>\n",
       "    <tr style=\"text-align: right;\">\n",
       "      <th></th>\n",
       "      <th>ID</th>\n",
       "      <th>name</th>\n",
       "      <th>age</th>\n",
       "      <th>gender</th>\n",
       "    </tr>\n",
       "  </thead>\n",
       "  <tbody>\n",
       "  </tbody>\n",
       "</table>\n",
       "</div>"
      ],
      "text/plain": [
       "Empty DataFrame\n",
       "Columns: [ID, name, age, gender]\n",
       "Index: []"
      ]
     },
     "execution_count": 12,
     "metadata": {},
     "output_type": "execute_result"
    }
   ],
   "source": [
    "pd.read_sql_query(\"select * from bittu1\",conn)"
   ]
  },
  {
   "cell_type": "markdown",
   "metadata": {},
   "source": [
    "###### ALTER TABLE =====> RENAME THE TABLE name"
   ]
  },
  {
   "cell_type": "code",
   "execution_count": 13,
   "metadata": {},
   "outputs": [
    {
     "data": {
      "text/plain": [
       "<sqlite3.Cursor at 0x22266968ce0>"
      ]
     },
     "execution_count": 13,
     "metadata": {},
     "output_type": "execute_result"
    }
   ],
   "source": [
    "cur.execute(\"ALTER TABLE bittu1 RENAME TO PAGAL1\")"
   ]
  },
  {
   "cell_type": "code",
   "execution_count": 15,
   "metadata": {},
   "outputs": [
    {
     "data": {
      "text/plain": [
       "[('ayushi',), ('sarang1',), ('ayushi1',), ('PAGAL1',)]"
      ]
     },
     "execution_count": 15,
     "metadata": {},
     "output_type": "execute_result"
    }
   ],
   "source": [
    "cur.execute(\"select name from sqlite_master where type='table'\")\n",
    "cur.fetchall()"
   ]
  },
  {
   "cell_type": "markdown",
   "metadata": {},
   "source": [
    "###### ALTER TABLE ======>  RENAME COLUMN current_name TO new_name"
   ]
  },
  {
   "cell_type": "code",
   "execution_count": 16,
   "metadata": {},
   "outputs": [
    {
     "data": {
      "text/plain": [
       "<sqlite3.Cursor at 0x22266968ce0>"
      ]
     },
     "execution_count": 16,
     "metadata": {},
     "output_type": "execute_result"
    }
   ],
   "source": [
    "cur.execute(\"ALTER TABLE PAGAL1 RENAME age TO AGE\")"
   ]
  },
  {
   "cell_type": "code",
   "execution_count": 18,
   "metadata": {},
   "outputs": [
    {
     "data": {
      "text/html": [
       "<div>\n",
       "<style scoped>\n",
       "    .dataframe tbody tr th:only-of-type {\n",
       "        vertical-align: middle;\n",
       "    }\n",
       "\n",
       "    .dataframe tbody tr th {\n",
       "        vertical-align: top;\n",
       "    }\n",
       "\n",
       "    .dataframe thead th {\n",
       "        text-align: right;\n",
       "    }\n",
       "</style>\n",
       "<table border=\"1\" class=\"dataframe\">\n",
       "  <thead>\n",
       "    <tr style=\"text-align: right;\">\n",
       "      <th></th>\n",
       "      <th>ID</th>\n",
       "      <th>name</th>\n",
       "      <th>AGE</th>\n",
       "      <th>gender</th>\n",
       "    </tr>\n",
       "  </thead>\n",
       "  <tbody>\n",
       "  </tbody>\n",
       "</table>\n",
       "</div>"
      ],
      "text/plain": [
       "Empty DataFrame\n",
       "Columns: [ID, name, AGE, gender]\n",
       "Index: []"
      ]
     },
     "execution_count": 18,
     "metadata": {},
     "output_type": "execute_result"
    }
   ],
   "source": [
    "pd.read_sql_query(\"select * from PAGAL1\",conn)"
   ]
  },
  {
   "cell_type": "markdown",
   "metadata": {},
   "source": [
    "###### JOIN in SQL"
   ]
  },
  {
   "cell_type": "raw",
   "metadata": {},
   "source": [
    "Different Types of SQL JOINs\n",
    "Here are the different types of the JOINs in SQL:\n",
    "\n",
    "(INNER) JOIN: Returns records that have matching values in both tables\n",
    "LEFT (OUTER) JOIN: Returns all records from the left table, and the matched records from the right table\n",
    "RIGHT (OUTER) JOIN: Returns all records from the right table, and the matched records from the left table\n",
    "FULL (OUTER) JOIN: Returns all records when there is a match in either left or right tables"
   ]
  },
  {
   "cell_type": "markdown",
   "metadata": {},
   "source": [
    "###### INNER JOIN"
   ]
  },
  {
   "cell_type": "raw",
   "metadata": {},
   "source": [
    "Suppose you have two tables: A and B.\n",
    "\n",
    "A has a1, a2, and f columns. B has b1, b2, and f column.\n",
    "The A table links to the B table using a foreign key column named f.\n",
    "\n",
    "\"\"\"\n",
    "SELECT a1, a2, b1, b2\n",
    "FROM A\n",
    "INNER JOIN B on B.f = A.f\n",
    "\"\"\""
   ]
  },
  {
   "cell_type": "code",
   "execution_count": 67,
   "metadata": {},
   "outputs": [
    {
     "data": {
      "text/plain": [
       "<sqlite3.Cursor at 0x1b92a8e9110>"
      ]
     },
     "execution_count": 67,
     "metadata": {},
     "output_type": "execute_result"
    }
   ],
   "source": [
    "# First we will create the two separate table\n",
    "cur.execute(\"create table if not exists gunnu3(nameid integer,name varchar,age integer,gender varchar)\")\n",
    "cur.execute(\"create table if not exists gunnu4(artistid integer,name varchar,experience varchar)\")"
   ]
  },
  {
   "cell_type": "code",
   "execution_count": 68,
   "metadata": {},
   "outputs": [],
   "source": [
    "cur.execute(\"insert into gunnu3 values(1,'sarang',22,'M')\")\n",
    "cur.execute(\"insert into gunnu3 values(2,'adarsh',22,'M')\")\n",
    "cur.execute(\"insert into gunnu3 values(3,'adarak',22,'M')\")\n",
    "cur.execute(\"insert into gunnu3 values(4,'kalyani',22,'M')\")\n",
    "cur.execute(\"insert into gunnu3 values(5,'mini',22,'M')\")\n",
    "conn.commit()\n",
    "\n",
    "cur.execute(\"insert into gunnu4 values(2,'adarsh','2 years')\")\n",
    "cur.execute(\"insert into gunnu4 values(4,'babu','2 years')\")\n",
    "cur.execute(\"insert into gunnu4 values(5,'priyansh','2 years')\")\n",
    "cur.execute(\"insert into gunnu4 values(6,'love bhaiya','2 years')\")\n",
    "cur.execute(\"insert into gunnu4 values(7,'babu bhaiya','2 years')\")\n",
    "conn.commit()"
   ]
  },
  {
   "cell_type": "code",
   "execution_count": 70,
   "metadata": {},
   "outputs": [
    {
     "name": "stdout",
     "output_type": "stream",
     "text": [
      "   nameid     name  age gender\n",
      "0       1   sarang   22      M\n",
      "1       2   adarsh   22      M\n",
      "2       3   adarak   22      M\n",
      "3       4  kalyani   22      M\n",
      "4       5     mini   22      M\n",
      "   artistid         name experience\n",
      "0         2       adarsh    2 years\n",
      "1         4         babu    2 years\n",
      "2         5     priyansh    2 years\n",
      "3         6  love bhaiya    2 years\n",
      "4         7  babu bhaiya    2 years\n"
     ]
    }
   ],
   "source": [
    "print(pd.read_sql_query(\"select * from gunnu3\",conn))\n",
    "print(pd.read_sql_query(\"select * from gunnu4\",conn))"
   ]
  },
  {
   "cell_type": "markdown",
   "metadata": {},
   "source": [
    "##### Innerjoin command"
   ]
  },
  {
   "cell_type": "code",
   "execution_count": 87,
   "metadata": {},
   "outputs": [
    {
     "data": {
      "text/html": [
       "<div>\n",
       "<style scoped>\n",
       "    .dataframe tbody tr th:only-of-type {\n",
       "        vertical-align: middle;\n",
       "    }\n",
       "\n",
       "    .dataframe tbody tr th {\n",
       "        vertical-align: top;\n",
       "    }\n",
       "\n",
       "    .dataframe thead th {\n",
       "        text-align: right;\n",
       "    }\n",
       "</style>\n",
       "<table border=\"1\" class=\"dataframe\">\n",
       "  <thead>\n",
       "    <tr style=\"text-align: right;\">\n",
       "      <th></th>\n",
       "      <th>nameid</th>\n",
       "      <th>age</th>\n",
       "      <th>experience</th>\n",
       "      <th>name</th>\n",
       "      <th>name</th>\n",
       "    </tr>\n",
       "  </thead>\n",
       "  <tbody>\n",
       "    <tr>\n",
       "      <th>0</th>\n",
       "      <td>2</td>\n",
       "      <td>22</td>\n",
       "      <td>2 years</td>\n",
       "      <td>adarsh</td>\n",
       "      <td>adarsh</td>\n",
       "    </tr>\n",
       "  </tbody>\n",
       "</table>\n",
       "</div>"
      ],
      "text/plain": [
       "   nameid  age experience    name    name\n",
       "0       2   22    2 years  adarsh  adarsh"
      ]
     },
     "execution_count": 87,
     "metadata": {},
     "output_type": "execute_result"
    }
   ],
   "source": [
    "pd.read_sql_query(\"select nameid,age,experience,gunnu3.name,gunnu4.name from gunnu3 INNER JOIN gunnu4 ON gunnu3.name == gunnu4.name\",conn)"
   ]
  },
  {
   "cell_type": "markdown",
   "metadata": {},
   "source": [
    "###### Left Join ------------here gunnu3 is left"
   ]
  },
  {
   "cell_type": "code",
   "execution_count": 93,
   "metadata": {},
   "outputs": [
    {
     "data": {
      "text/html": [
       "<div>\n",
       "<style scoped>\n",
       "    .dataframe tbody tr th:only-of-type {\n",
       "        vertical-align: middle;\n",
       "    }\n",
       "\n",
       "    .dataframe tbody tr th {\n",
       "        vertical-align: top;\n",
       "    }\n",
       "\n",
       "    .dataframe thead th {\n",
       "        text-align: right;\n",
       "    }\n",
       "</style>\n",
       "<table border=\"1\" class=\"dataframe\">\n",
       "  <thead>\n",
       "    <tr style=\"text-align: right;\">\n",
       "      <th></th>\n",
       "      <th>nameid</th>\n",
       "      <th>age</th>\n",
       "      <th>name</th>\n",
       "    </tr>\n",
       "  </thead>\n",
       "  <tbody>\n",
       "    <tr>\n",
       "      <th>0</th>\n",
       "      <td>1</td>\n",
       "      <td>22</td>\n",
       "      <td>sarang</td>\n",
       "    </tr>\n",
       "    <tr>\n",
       "      <th>1</th>\n",
       "      <td>2</td>\n",
       "      <td>22</td>\n",
       "      <td>adarsh</td>\n",
       "    </tr>\n",
       "    <tr>\n",
       "      <th>2</th>\n",
       "      <td>3</td>\n",
       "      <td>22</td>\n",
       "      <td>adarak</td>\n",
       "    </tr>\n",
       "    <tr>\n",
       "      <th>3</th>\n",
       "      <td>4</td>\n",
       "      <td>22</td>\n",
       "      <td>kalyani</td>\n",
       "    </tr>\n",
       "    <tr>\n",
       "      <th>4</th>\n",
       "      <td>5</td>\n",
       "      <td>22</td>\n",
       "      <td>mini</td>\n",
       "    </tr>\n",
       "  </tbody>\n",
       "</table>\n",
       "</div>"
      ],
      "text/plain": [
       "   nameid  age     name\n",
       "0       1   22   sarang\n",
       "1       2   22   adarsh\n",
       "2       3   22   adarak\n",
       "3       4   22  kalyani\n",
       "4       5   22     mini"
      ]
     },
     "execution_count": 93,
     "metadata": {},
     "output_type": "execute_result"
    }
   ],
   "source": [
    "pd.read_sql_query(\"select nameid,age,gunnu3.name from gunnu3 LEFT JOIN  gunnu4 ON gunnu3.name = gunnu4.name\",conn)"
   ]
  },
  {
   "cell_type": "markdown",
   "metadata": {},
   "source": [
    "###### Left Join ====> WHERE"
   ]
  },
  {
   "cell_type": "code",
   "execution_count": 96,
   "metadata": {},
   "outputs": [
    {
     "data": {
      "text/html": [
       "<div>\n",
       "<style scoped>\n",
       "    .dataframe tbody tr th:only-of-type {\n",
       "        vertical-align: middle;\n",
       "    }\n",
       "\n",
       "    .dataframe tbody tr th {\n",
       "        vertical-align: top;\n",
       "    }\n",
       "\n",
       "    .dataframe thead th {\n",
       "        text-align: right;\n",
       "    }\n",
       "</style>\n",
       "<table border=\"1\" class=\"dataframe\">\n",
       "  <thead>\n",
       "    <tr style=\"text-align: right;\">\n",
       "      <th></th>\n",
       "      <th>nameid</th>\n",
       "      <th>experience</th>\n",
       "    </tr>\n",
       "  </thead>\n",
       "  <tbody>\n",
       "    <tr>\n",
       "      <th>0</th>\n",
       "      <td>2</td>\n",
       "      <td>2 years</td>\n",
       "    </tr>\n",
       "  </tbody>\n",
       "</table>\n",
       "</div>"
      ],
      "text/plain": [
       "   nameid experience\n",
       "0       2    2 years"
      ]
     },
     "execution_count": 96,
     "metadata": {},
     "output_type": "execute_result"
    }
   ],
   "source": [
    "pd.read_sql_query(\"select nameid,experience from gunnu3 LEFT JOIN  gunnu4 ON gunnu3.name = gunnu4.name where nameid = 2\",conn)"
   ]
  },
  {
   "cell_type": "markdown",
   "metadata": {},
   "source": [
    "###### LEFT JOIN =====> ORDER BY"
   ]
  },
  {
   "cell_type": "code",
   "execution_count": 97,
   "metadata": {},
   "outputs": [
    {
     "data": {
      "text/html": [
       "<div>\n",
       "<style scoped>\n",
       "    .dataframe tbody tr th:only-of-type {\n",
       "        vertical-align: middle;\n",
       "    }\n",
       "\n",
       "    .dataframe tbody tr th {\n",
       "        vertical-align: top;\n",
       "    }\n",
       "\n",
       "    .dataframe thead th {\n",
       "        text-align: right;\n",
       "    }\n",
       "</style>\n",
       "<table border=\"1\" class=\"dataframe\">\n",
       "  <thead>\n",
       "    <tr style=\"text-align: right;\">\n",
       "      <th></th>\n",
       "      <th>nameid</th>\n",
       "      <th>experience</th>\n",
       "    </tr>\n",
       "  </thead>\n",
       "  <tbody>\n",
       "    <tr>\n",
       "      <th>0</th>\n",
       "      <td>1</td>\n",
       "      <td>None</td>\n",
       "    </tr>\n",
       "    <tr>\n",
       "      <th>1</th>\n",
       "      <td>2</td>\n",
       "      <td>2 years</td>\n",
       "    </tr>\n",
       "    <tr>\n",
       "      <th>2</th>\n",
       "      <td>3</td>\n",
       "      <td>None</td>\n",
       "    </tr>\n",
       "    <tr>\n",
       "      <th>3</th>\n",
       "      <td>4</td>\n",
       "      <td>None</td>\n",
       "    </tr>\n",
       "    <tr>\n",
       "      <th>4</th>\n",
       "      <td>5</td>\n",
       "      <td>None</td>\n",
       "    </tr>\n",
       "  </tbody>\n",
       "</table>\n",
       "</div>"
      ],
      "text/plain": [
       "   nameid experience\n",
       "0       1       None\n",
       "1       2    2 years\n",
       "2       3       None\n",
       "3       4       None\n",
       "4       5       None"
      ]
     },
     "execution_count": 97,
     "metadata": {},
     "output_type": "execute_result"
    }
   ],
   "source": [
    "pd.read_sql_query(\"select nameid,experience from gunnu3 LEFT JOIN gunnu4 ON gunnu3.name = gunnu4.name ORDER BY nameid\",conn)"
   ]
  },
  {
   "cell_type": "markdown",
   "metadata": {},
   "source": [
    "###### CROSS JOIN --- IT MEANS ALL POSSIBLE COMBINATION BETWEEN COMMON COLUMN"
   ]
  },
  {
   "cell_type": "markdown",
   "metadata": {},
   "source": [
    "###### These 4 way to do cross join\n",
    "\n",
    "SELECT *\n",
    "FROM A JOIN B;\n",
    "\n",
    "SELECT *\n",
    "FROM A\n",
    "INNER JOIN B;\n",
    "\n",
    "\n",
    "SELECT *\n",
    "FROM A\n",
    "CROSS JOIN B;\n",
    "\n",
    "\n",
    "SELECT * \n",
    "FROM A, B;"
   ]
  },
  {
   "cell_type": "code",
   "execution_count": 100,
   "metadata": {},
   "outputs": [
    {
     "data": {
      "text/html": [
       "<div>\n",
       "<style scoped>\n",
       "    .dataframe tbody tr th:only-of-type {\n",
       "        vertical-align: middle;\n",
       "    }\n",
       "\n",
       "    .dataframe tbody tr th {\n",
       "        vertical-align: top;\n",
       "    }\n",
       "\n",
       "    .dataframe thead th {\n",
       "        text-align: right;\n",
       "    }\n",
       "</style>\n",
       "<table border=\"1\" class=\"dataframe\">\n",
       "  <thead>\n",
       "    <tr style=\"text-align: right;\">\n",
       "      <th></th>\n",
       "      <th>nameid</th>\n",
       "      <th>name</th>\n",
       "      <th>age</th>\n",
       "      <th>gender</th>\n",
       "      <th>artistid</th>\n",
       "      <th>name</th>\n",
       "      <th>experience</th>\n",
       "    </tr>\n",
       "  </thead>\n",
       "  <tbody>\n",
       "    <tr>\n",
       "      <th>0</th>\n",
       "      <td>1</td>\n",
       "      <td>sarang</td>\n",
       "      <td>22</td>\n",
       "      <td>M</td>\n",
       "      <td>2</td>\n",
       "      <td>adarsh</td>\n",
       "      <td>2 years</td>\n",
       "    </tr>\n",
       "    <tr>\n",
       "      <th>1</th>\n",
       "      <td>1</td>\n",
       "      <td>sarang</td>\n",
       "      <td>22</td>\n",
       "      <td>M</td>\n",
       "      <td>4</td>\n",
       "      <td>babu</td>\n",
       "      <td>2 years</td>\n",
       "    </tr>\n",
       "    <tr>\n",
       "      <th>2</th>\n",
       "      <td>1</td>\n",
       "      <td>sarang</td>\n",
       "      <td>22</td>\n",
       "      <td>M</td>\n",
       "      <td>5</td>\n",
       "      <td>priyansh</td>\n",
       "      <td>2 years</td>\n",
       "    </tr>\n",
       "    <tr>\n",
       "      <th>3</th>\n",
       "      <td>1</td>\n",
       "      <td>sarang</td>\n",
       "      <td>22</td>\n",
       "      <td>M</td>\n",
       "      <td>6</td>\n",
       "      <td>love bhaiya</td>\n",
       "      <td>2 years</td>\n",
       "    </tr>\n",
       "    <tr>\n",
       "      <th>4</th>\n",
       "      <td>1</td>\n",
       "      <td>sarang</td>\n",
       "      <td>22</td>\n",
       "      <td>M</td>\n",
       "      <td>7</td>\n",
       "      <td>babu bhaiya</td>\n",
       "      <td>2 years</td>\n",
       "    </tr>\n",
       "    <tr>\n",
       "      <th>5</th>\n",
       "      <td>2</td>\n",
       "      <td>adarsh</td>\n",
       "      <td>22</td>\n",
       "      <td>M</td>\n",
       "      <td>2</td>\n",
       "      <td>adarsh</td>\n",
       "      <td>2 years</td>\n",
       "    </tr>\n",
       "    <tr>\n",
       "      <th>6</th>\n",
       "      <td>2</td>\n",
       "      <td>adarsh</td>\n",
       "      <td>22</td>\n",
       "      <td>M</td>\n",
       "      <td>4</td>\n",
       "      <td>babu</td>\n",
       "      <td>2 years</td>\n",
       "    </tr>\n",
       "    <tr>\n",
       "      <th>7</th>\n",
       "      <td>2</td>\n",
       "      <td>adarsh</td>\n",
       "      <td>22</td>\n",
       "      <td>M</td>\n",
       "      <td>5</td>\n",
       "      <td>priyansh</td>\n",
       "      <td>2 years</td>\n",
       "    </tr>\n",
       "    <tr>\n",
       "      <th>8</th>\n",
       "      <td>2</td>\n",
       "      <td>adarsh</td>\n",
       "      <td>22</td>\n",
       "      <td>M</td>\n",
       "      <td>6</td>\n",
       "      <td>love bhaiya</td>\n",
       "      <td>2 years</td>\n",
       "    </tr>\n",
       "    <tr>\n",
       "      <th>9</th>\n",
       "      <td>2</td>\n",
       "      <td>adarsh</td>\n",
       "      <td>22</td>\n",
       "      <td>M</td>\n",
       "      <td>7</td>\n",
       "      <td>babu bhaiya</td>\n",
       "      <td>2 years</td>\n",
       "    </tr>\n",
       "    <tr>\n",
       "      <th>10</th>\n",
       "      <td>3</td>\n",
       "      <td>adarak</td>\n",
       "      <td>22</td>\n",
       "      <td>M</td>\n",
       "      <td>2</td>\n",
       "      <td>adarsh</td>\n",
       "      <td>2 years</td>\n",
       "    </tr>\n",
       "    <tr>\n",
       "      <th>11</th>\n",
       "      <td>3</td>\n",
       "      <td>adarak</td>\n",
       "      <td>22</td>\n",
       "      <td>M</td>\n",
       "      <td>4</td>\n",
       "      <td>babu</td>\n",
       "      <td>2 years</td>\n",
       "    </tr>\n",
       "    <tr>\n",
       "      <th>12</th>\n",
       "      <td>3</td>\n",
       "      <td>adarak</td>\n",
       "      <td>22</td>\n",
       "      <td>M</td>\n",
       "      <td>5</td>\n",
       "      <td>priyansh</td>\n",
       "      <td>2 years</td>\n",
       "    </tr>\n",
       "    <tr>\n",
       "      <th>13</th>\n",
       "      <td>3</td>\n",
       "      <td>adarak</td>\n",
       "      <td>22</td>\n",
       "      <td>M</td>\n",
       "      <td>6</td>\n",
       "      <td>love bhaiya</td>\n",
       "      <td>2 years</td>\n",
       "    </tr>\n",
       "    <tr>\n",
       "      <th>14</th>\n",
       "      <td>3</td>\n",
       "      <td>adarak</td>\n",
       "      <td>22</td>\n",
       "      <td>M</td>\n",
       "      <td>7</td>\n",
       "      <td>babu bhaiya</td>\n",
       "      <td>2 years</td>\n",
       "    </tr>\n",
       "    <tr>\n",
       "      <th>15</th>\n",
       "      <td>4</td>\n",
       "      <td>kalyani</td>\n",
       "      <td>22</td>\n",
       "      <td>M</td>\n",
       "      <td>2</td>\n",
       "      <td>adarsh</td>\n",
       "      <td>2 years</td>\n",
       "    </tr>\n",
       "    <tr>\n",
       "      <th>16</th>\n",
       "      <td>4</td>\n",
       "      <td>kalyani</td>\n",
       "      <td>22</td>\n",
       "      <td>M</td>\n",
       "      <td>4</td>\n",
       "      <td>babu</td>\n",
       "      <td>2 years</td>\n",
       "    </tr>\n",
       "    <tr>\n",
       "      <th>17</th>\n",
       "      <td>4</td>\n",
       "      <td>kalyani</td>\n",
       "      <td>22</td>\n",
       "      <td>M</td>\n",
       "      <td>5</td>\n",
       "      <td>priyansh</td>\n",
       "      <td>2 years</td>\n",
       "    </tr>\n",
       "    <tr>\n",
       "      <th>18</th>\n",
       "      <td>4</td>\n",
       "      <td>kalyani</td>\n",
       "      <td>22</td>\n",
       "      <td>M</td>\n",
       "      <td>6</td>\n",
       "      <td>love bhaiya</td>\n",
       "      <td>2 years</td>\n",
       "    </tr>\n",
       "    <tr>\n",
       "      <th>19</th>\n",
       "      <td>4</td>\n",
       "      <td>kalyani</td>\n",
       "      <td>22</td>\n",
       "      <td>M</td>\n",
       "      <td>7</td>\n",
       "      <td>babu bhaiya</td>\n",
       "      <td>2 years</td>\n",
       "    </tr>\n",
       "    <tr>\n",
       "      <th>20</th>\n",
       "      <td>5</td>\n",
       "      <td>mini</td>\n",
       "      <td>22</td>\n",
       "      <td>M</td>\n",
       "      <td>2</td>\n",
       "      <td>adarsh</td>\n",
       "      <td>2 years</td>\n",
       "    </tr>\n",
       "    <tr>\n",
       "      <th>21</th>\n",
       "      <td>5</td>\n",
       "      <td>mini</td>\n",
       "      <td>22</td>\n",
       "      <td>M</td>\n",
       "      <td>4</td>\n",
       "      <td>babu</td>\n",
       "      <td>2 years</td>\n",
       "    </tr>\n",
       "    <tr>\n",
       "      <th>22</th>\n",
       "      <td>5</td>\n",
       "      <td>mini</td>\n",
       "      <td>22</td>\n",
       "      <td>M</td>\n",
       "      <td>5</td>\n",
       "      <td>priyansh</td>\n",
       "      <td>2 years</td>\n",
       "    </tr>\n",
       "    <tr>\n",
       "      <th>23</th>\n",
       "      <td>5</td>\n",
       "      <td>mini</td>\n",
       "      <td>22</td>\n",
       "      <td>M</td>\n",
       "      <td>6</td>\n",
       "      <td>love bhaiya</td>\n",
       "      <td>2 years</td>\n",
       "    </tr>\n",
       "    <tr>\n",
       "      <th>24</th>\n",
       "      <td>5</td>\n",
       "      <td>mini</td>\n",
       "      <td>22</td>\n",
       "      <td>M</td>\n",
       "      <td>7</td>\n",
       "      <td>babu bhaiya</td>\n",
       "      <td>2 years</td>\n",
       "    </tr>\n",
       "  </tbody>\n",
       "</table>\n",
       "</div>"
      ],
      "text/plain": [
       "    nameid     name  age gender  artistid         name experience\n",
       "0        1   sarang   22      M         2       adarsh    2 years\n",
       "1        1   sarang   22      M         4         babu    2 years\n",
       "2        1   sarang   22      M         5     priyansh    2 years\n",
       "3        1   sarang   22      M         6  love bhaiya    2 years\n",
       "4        1   sarang   22      M         7  babu bhaiya    2 years\n",
       "5        2   adarsh   22      M         2       adarsh    2 years\n",
       "6        2   adarsh   22      M         4         babu    2 years\n",
       "7        2   adarsh   22      M         5     priyansh    2 years\n",
       "8        2   adarsh   22      M         6  love bhaiya    2 years\n",
       "9        2   adarsh   22      M         7  babu bhaiya    2 years\n",
       "10       3   adarak   22      M         2       adarsh    2 years\n",
       "11       3   adarak   22      M         4         babu    2 years\n",
       "12       3   adarak   22      M         5     priyansh    2 years\n",
       "13       3   adarak   22      M         6  love bhaiya    2 years\n",
       "14       3   adarak   22      M         7  babu bhaiya    2 years\n",
       "15       4  kalyani   22      M         2       adarsh    2 years\n",
       "16       4  kalyani   22      M         4         babu    2 years\n",
       "17       4  kalyani   22      M         5     priyansh    2 years\n",
       "18       4  kalyani   22      M         6  love bhaiya    2 years\n",
       "19       4  kalyani   22      M         7  babu bhaiya    2 years\n",
       "20       5     mini   22      M         2       adarsh    2 years\n",
       "21       5     mini   22      M         4         babu    2 years\n",
       "22       5     mini   22      M         5     priyansh    2 years\n",
       "23       5     mini   22      M         6  love bhaiya    2 years\n",
       "24       5     mini   22      M         7  babu bhaiya    2 years"
      ]
     },
     "execution_count": 100,
     "metadata": {},
     "output_type": "execute_result"
    }
   ],
   "source": [
    "pd.read_sql_query(\"SELECT * FROM gunnu3,gunnu4\",conn)"
   ]
  },
  {
   "cell_type": "code",
   "execution_count": 98,
   "metadata": {},
   "outputs": [
    {
     "data": {
      "text/html": [
       "<div>\n",
       "<style scoped>\n",
       "    .dataframe tbody tr th:only-of-type {\n",
       "        vertical-align: middle;\n",
       "    }\n",
       "\n",
       "    .dataframe tbody tr th {\n",
       "        vertical-align: top;\n",
       "    }\n",
       "\n",
       "    .dataframe thead th {\n",
       "        text-align: right;\n",
       "    }\n",
       "</style>\n",
       "<table border=\"1\" class=\"dataframe\">\n",
       "  <thead>\n",
       "    <tr style=\"text-align: right;\">\n",
       "      <th></th>\n",
       "      <th>nameid</th>\n",
       "      <th>name</th>\n",
       "      <th>age</th>\n",
       "      <th>gender</th>\n",
       "      <th>artistid</th>\n",
       "      <th>name</th>\n",
       "      <th>experience</th>\n",
       "    </tr>\n",
       "  </thead>\n",
       "  <tbody>\n",
       "    <tr>\n",
       "      <th>0</th>\n",
       "      <td>1</td>\n",
       "      <td>sarang</td>\n",
       "      <td>22</td>\n",
       "      <td>M</td>\n",
       "      <td>2</td>\n",
       "      <td>adarsh</td>\n",
       "      <td>2 years</td>\n",
       "    </tr>\n",
       "    <tr>\n",
       "      <th>1</th>\n",
       "      <td>1</td>\n",
       "      <td>sarang</td>\n",
       "      <td>22</td>\n",
       "      <td>M</td>\n",
       "      <td>4</td>\n",
       "      <td>babu</td>\n",
       "      <td>2 years</td>\n",
       "    </tr>\n",
       "    <tr>\n",
       "      <th>2</th>\n",
       "      <td>1</td>\n",
       "      <td>sarang</td>\n",
       "      <td>22</td>\n",
       "      <td>M</td>\n",
       "      <td>5</td>\n",
       "      <td>priyansh</td>\n",
       "      <td>2 years</td>\n",
       "    </tr>\n",
       "    <tr>\n",
       "      <th>3</th>\n",
       "      <td>1</td>\n",
       "      <td>sarang</td>\n",
       "      <td>22</td>\n",
       "      <td>M</td>\n",
       "      <td>6</td>\n",
       "      <td>love bhaiya</td>\n",
       "      <td>2 years</td>\n",
       "    </tr>\n",
       "    <tr>\n",
       "      <th>4</th>\n",
       "      <td>1</td>\n",
       "      <td>sarang</td>\n",
       "      <td>22</td>\n",
       "      <td>M</td>\n",
       "      <td>7</td>\n",
       "      <td>babu bhaiya</td>\n",
       "      <td>2 years</td>\n",
       "    </tr>\n",
       "    <tr>\n",
       "      <th>5</th>\n",
       "      <td>2</td>\n",
       "      <td>adarsh</td>\n",
       "      <td>22</td>\n",
       "      <td>M</td>\n",
       "      <td>2</td>\n",
       "      <td>adarsh</td>\n",
       "      <td>2 years</td>\n",
       "    </tr>\n",
       "    <tr>\n",
       "      <th>6</th>\n",
       "      <td>2</td>\n",
       "      <td>adarsh</td>\n",
       "      <td>22</td>\n",
       "      <td>M</td>\n",
       "      <td>4</td>\n",
       "      <td>babu</td>\n",
       "      <td>2 years</td>\n",
       "    </tr>\n",
       "    <tr>\n",
       "      <th>7</th>\n",
       "      <td>2</td>\n",
       "      <td>adarsh</td>\n",
       "      <td>22</td>\n",
       "      <td>M</td>\n",
       "      <td>5</td>\n",
       "      <td>priyansh</td>\n",
       "      <td>2 years</td>\n",
       "    </tr>\n",
       "    <tr>\n",
       "      <th>8</th>\n",
       "      <td>2</td>\n",
       "      <td>adarsh</td>\n",
       "      <td>22</td>\n",
       "      <td>M</td>\n",
       "      <td>6</td>\n",
       "      <td>love bhaiya</td>\n",
       "      <td>2 years</td>\n",
       "    </tr>\n",
       "    <tr>\n",
       "      <th>9</th>\n",
       "      <td>2</td>\n",
       "      <td>adarsh</td>\n",
       "      <td>22</td>\n",
       "      <td>M</td>\n",
       "      <td>7</td>\n",
       "      <td>babu bhaiya</td>\n",
       "      <td>2 years</td>\n",
       "    </tr>\n",
       "    <tr>\n",
       "      <th>10</th>\n",
       "      <td>3</td>\n",
       "      <td>adarak</td>\n",
       "      <td>22</td>\n",
       "      <td>M</td>\n",
       "      <td>2</td>\n",
       "      <td>adarsh</td>\n",
       "      <td>2 years</td>\n",
       "    </tr>\n",
       "    <tr>\n",
       "      <th>11</th>\n",
       "      <td>3</td>\n",
       "      <td>adarak</td>\n",
       "      <td>22</td>\n",
       "      <td>M</td>\n",
       "      <td>4</td>\n",
       "      <td>babu</td>\n",
       "      <td>2 years</td>\n",
       "    </tr>\n",
       "    <tr>\n",
       "      <th>12</th>\n",
       "      <td>3</td>\n",
       "      <td>adarak</td>\n",
       "      <td>22</td>\n",
       "      <td>M</td>\n",
       "      <td>5</td>\n",
       "      <td>priyansh</td>\n",
       "      <td>2 years</td>\n",
       "    </tr>\n",
       "    <tr>\n",
       "      <th>13</th>\n",
       "      <td>3</td>\n",
       "      <td>adarak</td>\n",
       "      <td>22</td>\n",
       "      <td>M</td>\n",
       "      <td>6</td>\n",
       "      <td>love bhaiya</td>\n",
       "      <td>2 years</td>\n",
       "    </tr>\n",
       "    <tr>\n",
       "      <th>14</th>\n",
       "      <td>3</td>\n",
       "      <td>adarak</td>\n",
       "      <td>22</td>\n",
       "      <td>M</td>\n",
       "      <td>7</td>\n",
       "      <td>babu bhaiya</td>\n",
       "      <td>2 years</td>\n",
       "    </tr>\n",
       "    <tr>\n",
       "      <th>15</th>\n",
       "      <td>4</td>\n",
       "      <td>kalyani</td>\n",
       "      <td>22</td>\n",
       "      <td>M</td>\n",
       "      <td>2</td>\n",
       "      <td>adarsh</td>\n",
       "      <td>2 years</td>\n",
       "    </tr>\n",
       "    <tr>\n",
       "      <th>16</th>\n",
       "      <td>4</td>\n",
       "      <td>kalyani</td>\n",
       "      <td>22</td>\n",
       "      <td>M</td>\n",
       "      <td>4</td>\n",
       "      <td>babu</td>\n",
       "      <td>2 years</td>\n",
       "    </tr>\n",
       "    <tr>\n",
       "      <th>17</th>\n",
       "      <td>4</td>\n",
       "      <td>kalyani</td>\n",
       "      <td>22</td>\n",
       "      <td>M</td>\n",
       "      <td>5</td>\n",
       "      <td>priyansh</td>\n",
       "      <td>2 years</td>\n",
       "    </tr>\n",
       "    <tr>\n",
       "      <th>18</th>\n",
       "      <td>4</td>\n",
       "      <td>kalyani</td>\n",
       "      <td>22</td>\n",
       "      <td>M</td>\n",
       "      <td>6</td>\n",
       "      <td>love bhaiya</td>\n",
       "      <td>2 years</td>\n",
       "    </tr>\n",
       "    <tr>\n",
       "      <th>19</th>\n",
       "      <td>4</td>\n",
       "      <td>kalyani</td>\n",
       "      <td>22</td>\n",
       "      <td>M</td>\n",
       "      <td>7</td>\n",
       "      <td>babu bhaiya</td>\n",
       "      <td>2 years</td>\n",
       "    </tr>\n",
       "    <tr>\n",
       "      <th>20</th>\n",
       "      <td>5</td>\n",
       "      <td>mini</td>\n",
       "      <td>22</td>\n",
       "      <td>M</td>\n",
       "      <td>2</td>\n",
       "      <td>adarsh</td>\n",
       "      <td>2 years</td>\n",
       "    </tr>\n",
       "    <tr>\n",
       "      <th>21</th>\n",
       "      <td>5</td>\n",
       "      <td>mini</td>\n",
       "      <td>22</td>\n",
       "      <td>M</td>\n",
       "      <td>4</td>\n",
       "      <td>babu</td>\n",
       "      <td>2 years</td>\n",
       "    </tr>\n",
       "    <tr>\n",
       "      <th>22</th>\n",
       "      <td>5</td>\n",
       "      <td>mini</td>\n",
       "      <td>22</td>\n",
       "      <td>M</td>\n",
       "      <td>5</td>\n",
       "      <td>priyansh</td>\n",
       "      <td>2 years</td>\n",
       "    </tr>\n",
       "    <tr>\n",
       "      <th>23</th>\n",
       "      <td>5</td>\n",
       "      <td>mini</td>\n",
       "      <td>22</td>\n",
       "      <td>M</td>\n",
       "      <td>6</td>\n",
       "      <td>love bhaiya</td>\n",
       "      <td>2 years</td>\n",
       "    </tr>\n",
       "    <tr>\n",
       "      <th>24</th>\n",
       "      <td>5</td>\n",
       "      <td>mini</td>\n",
       "      <td>22</td>\n",
       "      <td>M</td>\n",
       "      <td>7</td>\n",
       "      <td>babu bhaiya</td>\n",
       "      <td>2 years</td>\n",
       "    </tr>\n",
       "  </tbody>\n",
       "</table>\n",
       "</div>"
      ],
      "text/plain": [
       "    nameid     name  age gender  artistid         name experience\n",
       "0        1   sarang   22      M         2       adarsh    2 years\n",
       "1        1   sarang   22      M         4         babu    2 years\n",
       "2        1   sarang   22      M         5     priyansh    2 years\n",
       "3        1   sarang   22      M         6  love bhaiya    2 years\n",
       "4        1   sarang   22      M         7  babu bhaiya    2 years\n",
       "5        2   adarsh   22      M         2       adarsh    2 years\n",
       "6        2   adarsh   22      M         4         babu    2 years\n",
       "7        2   adarsh   22      M         5     priyansh    2 years\n",
       "8        2   adarsh   22      M         6  love bhaiya    2 years\n",
       "9        2   adarsh   22      M         7  babu bhaiya    2 years\n",
       "10       3   adarak   22      M         2       adarsh    2 years\n",
       "11       3   adarak   22      M         4         babu    2 years\n",
       "12       3   adarak   22      M         5     priyansh    2 years\n",
       "13       3   adarak   22      M         6  love bhaiya    2 years\n",
       "14       3   adarak   22      M         7  babu bhaiya    2 years\n",
       "15       4  kalyani   22      M         2       adarsh    2 years\n",
       "16       4  kalyani   22      M         4         babu    2 years\n",
       "17       4  kalyani   22      M         5     priyansh    2 years\n",
       "18       4  kalyani   22      M         6  love bhaiya    2 years\n",
       "19       4  kalyani   22      M         7  babu bhaiya    2 years\n",
       "20       5     mini   22      M         2       adarsh    2 years\n",
       "21       5     mini   22      M         4         babu    2 years\n",
       "22       5     mini   22      M         5     priyansh    2 years\n",
       "23       5     mini   22      M         6  love bhaiya    2 years\n",
       "24       5     mini   22      M         7  babu bhaiya    2 years"
      ]
     },
     "execution_count": 98,
     "metadata": {},
     "output_type": "execute_result"
    }
   ],
   "source": [
    "pd.read_sql_query(\"SELECT * FROM gunnu3 JOIN gunnu4\",conn)"
   ]
  },
  {
   "cell_type": "code",
   "execution_count": 99,
   "metadata": {},
   "outputs": [
    {
     "data": {
      "text/html": [
       "<div>\n",
       "<style scoped>\n",
       "    .dataframe tbody tr th:only-of-type {\n",
       "        vertical-align: middle;\n",
       "    }\n",
       "\n",
       "    .dataframe tbody tr th {\n",
       "        vertical-align: top;\n",
       "    }\n",
       "\n",
       "    .dataframe thead th {\n",
       "        text-align: right;\n",
       "    }\n",
       "</style>\n",
       "<table border=\"1\" class=\"dataframe\">\n",
       "  <thead>\n",
       "    <tr style=\"text-align: right;\">\n",
       "      <th></th>\n",
       "      <th>nameid</th>\n",
       "      <th>name</th>\n",
       "      <th>age</th>\n",
       "      <th>gender</th>\n",
       "      <th>artistid</th>\n",
       "      <th>name</th>\n",
       "      <th>experience</th>\n",
       "    </tr>\n",
       "  </thead>\n",
       "  <tbody>\n",
       "    <tr>\n",
       "      <th>0</th>\n",
       "      <td>1</td>\n",
       "      <td>sarang</td>\n",
       "      <td>22</td>\n",
       "      <td>M</td>\n",
       "      <td>2</td>\n",
       "      <td>adarsh</td>\n",
       "      <td>2 years</td>\n",
       "    </tr>\n",
       "    <tr>\n",
       "      <th>1</th>\n",
       "      <td>1</td>\n",
       "      <td>sarang</td>\n",
       "      <td>22</td>\n",
       "      <td>M</td>\n",
       "      <td>4</td>\n",
       "      <td>babu</td>\n",
       "      <td>2 years</td>\n",
       "    </tr>\n",
       "    <tr>\n",
       "      <th>2</th>\n",
       "      <td>1</td>\n",
       "      <td>sarang</td>\n",
       "      <td>22</td>\n",
       "      <td>M</td>\n",
       "      <td>5</td>\n",
       "      <td>priyansh</td>\n",
       "      <td>2 years</td>\n",
       "    </tr>\n",
       "    <tr>\n",
       "      <th>3</th>\n",
       "      <td>1</td>\n",
       "      <td>sarang</td>\n",
       "      <td>22</td>\n",
       "      <td>M</td>\n",
       "      <td>6</td>\n",
       "      <td>love bhaiya</td>\n",
       "      <td>2 years</td>\n",
       "    </tr>\n",
       "    <tr>\n",
       "      <th>4</th>\n",
       "      <td>1</td>\n",
       "      <td>sarang</td>\n",
       "      <td>22</td>\n",
       "      <td>M</td>\n",
       "      <td>7</td>\n",
       "      <td>babu bhaiya</td>\n",
       "      <td>2 years</td>\n",
       "    </tr>\n",
       "    <tr>\n",
       "      <th>5</th>\n",
       "      <td>2</td>\n",
       "      <td>adarsh</td>\n",
       "      <td>22</td>\n",
       "      <td>M</td>\n",
       "      <td>2</td>\n",
       "      <td>adarsh</td>\n",
       "      <td>2 years</td>\n",
       "    </tr>\n",
       "    <tr>\n",
       "      <th>6</th>\n",
       "      <td>2</td>\n",
       "      <td>adarsh</td>\n",
       "      <td>22</td>\n",
       "      <td>M</td>\n",
       "      <td>4</td>\n",
       "      <td>babu</td>\n",
       "      <td>2 years</td>\n",
       "    </tr>\n",
       "    <tr>\n",
       "      <th>7</th>\n",
       "      <td>2</td>\n",
       "      <td>adarsh</td>\n",
       "      <td>22</td>\n",
       "      <td>M</td>\n",
       "      <td>5</td>\n",
       "      <td>priyansh</td>\n",
       "      <td>2 years</td>\n",
       "    </tr>\n",
       "    <tr>\n",
       "      <th>8</th>\n",
       "      <td>2</td>\n",
       "      <td>adarsh</td>\n",
       "      <td>22</td>\n",
       "      <td>M</td>\n",
       "      <td>6</td>\n",
       "      <td>love bhaiya</td>\n",
       "      <td>2 years</td>\n",
       "    </tr>\n",
       "    <tr>\n",
       "      <th>9</th>\n",
       "      <td>2</td>\n",
       "      <td>adarsh</td>\n",
       "      <td>22</td>\n",
       "      <td>M</td>\n",
       "      <td>7</td>\n",
       "      <td>babu bhaiya</td>\n",
       "      <td>2 years</td>\n",
       "    </tr>\n",
       "    <tr>\n",
       "      <th>10</th>\n",
       "      <td>3</td>\n",
       "      <td>adarak</td>\n",
       "      <td>22</td>\n",
       "      <td>M</td>\n",
       "      <td>2</td>\n",
       "      <td>adarsh</td>\n",
       "      <td>2 years</td>\n",
       "    </tr>\n",
       "    <tr>\n",
       "      <th>11</th>\n",
       "      <td>3</td>\n",
       "      <td>adarak</td>\n",
       "      <td>22</td>\n",
       "      <td>M</td>\n",
       "      <td>4</td>\n",
       "      <td>babu</td>\n",
       "      <td>2 years</td>\n",
       "    </tr>\n",
       "    <tr>\n",
       "      <th>12</th>\n",
       "      <td>3</td>\n",
       "      <td>adarak</td>\n",
       "      <td>22</td>\n",
       "      <td>M</td>\n",
       "      <td>5</td>\n",
       "      <td>priyansh</td>\n",
       "      <td>2 years</td>\n",
       "    </tr>\n",
       "    <tr>\n",
       "      <th>13</th>\n",
       "      <td>3</td>\n",
       "      <td>adarak</td>\n",
       "      <td>22</td>\n",
       "      <td>M</td>\n",
       "      <td>6</td>\n",
       "      <td>love bhaiya</td>\n",
       "      <td>2 years</td>\n",
       "    </tr>\n",
       "    <tr>\n",
       "      <th>14</th>\n",
       "      <td>3</td>\n",
       "      <td>adarak</td>\n",
       "      <td>22</td>\n",
       "      <td>M</td>\n",
       "      <td>7</td>\n",
       "      <td>babu bhaiya</td>\n",
       "      <td>2 years</td>\n",
       "    </tr>\n",
       "    <tr>\n",
       "      <th>15</th>\n",
       "      <td>4</td>\n",
       "      <td>kalyani</td>\n",
       "      <td>22</td>\n",
       "      <td>M</td>\n",
       "      <td>2</td>\n",
       "      <td>adarsh</td>\n",
       "      <td>2 years</td>\n",
       "    </tr>\n",
       "    <tr>\n",
       "      <th>16</th>\n",
       "      <td>4</td>\n",
       "      <td>kalyani</td>\n",
       "      <td>22</td>\n",
       "      <td>M</td>\n",
       "      <td>4</td>\n",
       "      <td>babu</td>\n",
       "      <td>2 years</td>\n",
       "    </tr>\n",
       "    <tr>\n",
       "      <th>17</th>\n",
       "      <td>4</td>\n",
       "      <td>kalyani</td>\n",
       "      <td>22</td>\n",
       "      <td>M</td>\n",
       "      <td>5</td>\n",
       "      <td>priyansh</td>\n",
       "      <td>2 years</td>\n",
       "    </tr>\n",
       "    <tr>\n",
       "      <th>18</th>\n",
       "      <td>4</td>\n",
       "      <td>kalyani</td>\n",
       "      <td>22</td>\n",
       "      <td>M</td>\n",
       "      <td>6</td>\n",
       "      <td>love bhaiya</td>\n",
       "      <td>2 years</td>\n",
       "    </tr>\n",
       "    <tr>\n",
       "      <th>19</th>\n",
       "      <td>4</td>\n",
       "      <td>kalyani</td>\n",
       "      <td>22</td>\n",
       "      <td>M</td>\n",
       "      <td>7</td>\n",
       "      <td>babu bhaiya</td>\n",
       "      <td>2 years</td>\n",
       "    </tr>\n",
       "    <tr>\n",
       "      <th>20</th>\n",
       "      <td>5</td>\n",
       "      <td>mini</td>\n",
       "      <td>22</td>\n",
       "      <td>M</td>\n",
       "      <td>2</td>\n",
       "      <td>adarsh</td>\n",
       "      <td>2 years</td>\n",
       "    </tr>\n",
       "    <tr>\n",
       "      <th>21</th>\n",
       "      <td>5</td>\n",
       "      <td>mini</td>\n",
       "      <td>22</td>\n",
       "      <td>M</td>\n",
       "      <td>4</td>\n",
       "      <td>babu</td>\n",
       "      <td>2 years</td>\n",
       "    </tr>\n",
       "    <tr>\n",
       "      <th>22</th>\n",
       "      <td>5</td>\n",
       "      <td>mini</td>\n",
       "      <td>22</td>\n",
       "      <td>M</td>\n",
       "      <td>5</td>\n",
       "      <td>priyansh</td>\n",
       "      <td>2 years</td>\n",
       "    </tr>\n",
       "    <tr>\n",
       "      <th>23</th>\n",
       "      <td>5</td>\n",
       "      <td>mini</td>\n",
       "      <td>22</td>\n",
       "      <td>M</td>\n",
       "      <td>6</td>\n",
       "      <td>love bhaiya</td>\n",
       "      <td>2 years</td>\n",
       "    </tr>\n",
       "    <tr>\n",
       "      <th>24</th>\n",
       "      <td>5</td>\n",
       "      <td>mini</td>\n",
       "      <td>22</td>\n",
       "      <td>M</td>\n",
       "      <td>7</td>\n",
       "      <td>babu bhaiya</td>\n",
       "      <td>2 years</td>\n",
       "    </tr>\n",
       "  </tbody>\n",
       "</table>\n",
       "</div>"
      ],
      "text/plain": [
       "    nameid     name  age gender  artistid         name experience\n",
       "0        1   sarang   22      M         2       adarsh    2 years\n",
       "1        1   sarang   22      M         4         babu    2 years\n",
       "2        1   sarang   22      M         5     priyansh    2 years\n",
       "3        1   sarang   22      M         6  love bhaiya    2 years\n",
       "4        1   sarang   22      M         7  babu bhaiya    2 years\n",
       "5        2   adarsh   22      M         2       adarsh    2 years\n",
       "6        2   adarsh   22      M         4         babu    2 years\n",
       "7        2   adarsh   22      M         5     priyansh    2 years\n",
       "8        2   adarsh   22      M         6  love bhaiya    2 years\n",
       "9        2   adarsh   22      M         7  babu bhaiya    2 years\n",
       "10       3   adarak   22      M         2       adarsh    2 years\n",
       "11       3   adarak   22      M         4         babu    2 years\n",
       "12       3   adarak   22      M         5     priyansh    2 years\n",
       "13       3   adarak   22      M         6  love bhaiya    2 years\n",
       "14       3   adarak   22      M         7  babu bhaiya    2 years\n",
       "15       4  kalyani   22      M         2       adarsh    2 years\n",
       "16       4  kalyani   22      M         4         babu    2 years\n",
       "17       4  kalyani   22      M         5     priyansh    2 years\n",
       "18       4  kalyani   22      M         6  love bhaiya    2 years\n",
       "19       4  kalyani   22      M         7  babu bhaiya    2 years\n",
       "20       5     mini   22      M         2       adarsh    2 years\n",
       "21       5     mini   22      M         4         babu    2 years\n",
       "22       5     mini   22      M         5     priyansh    2 years\n",
       "23       5     mini   22      M         6  love bhaiya    2 years\n",
       "24       5     mini   22      M         7  babu bhaiya    2 years"
      ]
     },
     "execution_count": 99,
     "metadata": {},
     "output_type": "execute_result"
    }
   ],
   "source": [
    "pd.read_sql_query(\"SELECT * FROM gunnu3 INNER JOIN gunnu4\",conn)"
   ]
  },
  {
   "cell_type": "code",
   "execution_count": 101,
   "metadata": {},
   "outputs": [
    {
     "data": {
      "text/html": [
       "<div>\n",
       "<style scoped>\n",
       "    .dataframe tbody tr th:only-of-type {\n",
       "        vertical-align: middle;\n",
       "    }\n",
       "\n",
       "    .dataframe tbody tr th {\n",
       "        vertical-align: top;\n",
       "    }\n",
       "\n",
       "    .dataframe thead th {\n",
       "        text-align: right;\n",
       "    }\n",
       "</style>\n",
       "<table border=\"1\" class=\"dataframe\">\n",
       "  <thead>\n",
       "    <tr style=\"text-align: right;\">\n",
       "      <th></th>\n",
       "      <th>nameid</th>\n",
       "      <th>name</th>\n",
       "      <th>age</th>\n",
       "      <th>gender</th>\n",
       "      <th>artistid</th>\n",
       "      <th>name</th>\n",
       "      <th>experience</th>\n",
       "    </tr>\n",
       "  </thead>\n",
       "  <tbody>\n",
       "    <tr>\n",
       "      <th>0</th>\n",
       "      <td>1</td>\n",
       "      <td>sarang</td>\n",
       "      <td>22</td>\n",
       "      <td>M</td>\n",
       "      <td>2</td>\n",
       "      <td>adarsh</td>\n",
       "      <td>2 years</td>\n",
       "    </tr>\n",
       "    <tr>\n",
       "      <th>1</th>\n",
       "      <td>1</td>\n",
       "      <td>sarang</td>\n",
       "      <td>22</td>\n",
       "      <td>M</td>\n",
       "      <td>4</td>\n",
       "      <td>babu</td>\n",
       "      <td>2 years</td>\n",
       "    </tr>\n",
       "    <tr>\n",
       "      <th>2</th>\n",
       "      <td>1</td>\n",
       "      <td>sarang</td>\n",
       "      <td>22</td>\n",
       "      <td>M</td>\n",
       "      <td>5</td>\n",
       "      <td>priyansh</td>\n",
       "      <td>2 years</td>\n",
       "    </tr>\n",
       "    <tr>\n",
       "      <th>3</th>\n",
       "      <td>1</td>\n",
       "      <td>sarang</td>\n",
       "      <td>22</td>\n",
       "      <td>M</td>\n",
       "      <td>6</td>\n",
       "      <td>love bhaiya</td>\n",
       "      <td>2 years</td>\n",
       "    </tr>\n",
       "    <tr>\n",
       "      <th>4</th>\n",
       "      <td>1</td>\n",
       "      <td>sarang</td>\n",
       "      <td>22</td>\n",
       "      <td>M</td>\n",
       "      <td>7</td>\n",
       "      <td>babu bhaiya</td>\n",
       "      <td>2 years</td>\n",
       "    </tr>\n",
       "    <tr>\n",
       "      <th>5</th>\n",
       "      <td>2</td>\n",
       "      <td>adarsh</td>\n",
       "      <td>22</td>\n",
       "      <td>M</td>\n",
       "      <td>2</td>\n",
       "      <td>adarsh</td>\n",
       "      <td>2 years</td>\n",
       "    </tr>\n",
       "    <tr>\n",
       "      <th>6</th>\n",
       "      <td>2</td>\n",
       "      <td>adarsh</td>\n",
       "      <td>22</td>\n",
       "      <td>M</td>\n",
       "      <td>4</td>\n",
       "      <td>babu</td>\n",
       "      <td>2 years</td>\n",
       "    </tr>\n",
       "    <tr>\n",
       "      <th>7</th>\n",
       "      <td>2</td>\n",
       "      <td>adarsh</td>\n",
       "      <td>22</td>\n",
       "      <td>M</td>\n",
       "      <td>5</td>\n",
       "      <td>priyansh</td>\n",
       "      <td>2 years</td>\n",
       "    </tr>\n",
       "    <tr>\n",
       "      <th>8</th>\n",
       "      <td>2</td>\n",
       "      <td>adarsh</td>\n",
       "      <td>22</td>\n",
       "      <td>M</td>\n",
       "      <td>6</td>\n",
       "      <td>love bhaiya</td>\n",
       "      <td>2 years</td>\n",
       "    </tr>\n",
       "    <tr>\n",
       "      <th>9</th>\n",
       "      <td>2</td>\n",
       "      <td>adarsh</td>\n",
       "      <td>22</td>\n",
       "      <td>M</td>\n",
       "      <td>7</td>\n",
       "      <td>babu bhaiya</td>\n",
       "      <td>2 years</td>\n",
       "    </tr>\n",
       "    <tr>\n",
       "      <th>10</th>\n",
       "      <td>3</td>\n",
       "      <td>adarak</td>\n",
       "      <td>22</td>\n",
       "      <td>M</td>\n",
       "      <td>2</td>\n",
       "      <td>adarsh</td>\n",
       "      <td>2 years</td>\n",
       "    </tr>\n",
       "    <tr>\n",
       "      <th>11</th>\n",
       "      <td>3</td>\n",
       "      <td>adarak</td>\n",
       "      <td>22</td>\n",
       "      <td>M</td>\n",
       "      <td>4</td>\n",
       "      <td>babu</td>\n",
       "      <td>2 years</td>\n",
       "    </tr>\n",
       "    <tr>\n",
       "      <th>12</th>\n",
       "      <td>3</td>\n",
       "      <td>adarak</td>\n",
       "      <td>22</td>\n",
       "      <td>M</td>\n",
       "      <td>5</td>\n",
       "      <td>priyansh</td>\n",
       "      <td>2 years</td>\n",
       "    </tr>\n",
       "    <tr>\n",
       "      <th>13</th>\n",
       "      <td>3</td>\n",
       "      <td>adarak</td>\n",
       "      <td>22</td>\n",
       "      <td>M</td>\n",
       "      <td>6</td>\n",
       "      <td>love bhaiya</td>\n",
       "      <td>2 years</td>\n",
       "    </tr>\n",
       "    <tr>\n",
       "      <th>14</th>\n",
       "      <td>3</td>\n",
       "      <td>adarak</td>\n",
       "      <td>22</td>\n",
       "      <td>M</td>\n",
       "      <td>7</td>\n",
       "      <td>babu bhaiya</td>\n",
       "      <td>2 years</td>\n",
       "    </tr>\n",
       "    <tr>\n",
       "      <th>15</th>\n",
       "      <td>4</td>\n",
       "      <td>kalyani</td>\n",
       "      <td>22</td>\n",
       "      <td>M</td>\n",
       "      <td>2</td>\n",
       "      <td>adarsh</td>\n",
       "      <td>2 years</td>\n",
       "    </tr>\n",
       "    <tr>\n",
       "      <th>16</th>\n",
       "      <td>4</td>\n",
       "      <td>kalyani</td>\n",
       "      <td>22</td>\n",
       "      <td>M</td>\n",
       "      <td>4</td>\n",
       "      <td>babu</td>\n",
       "      <td>2 years</td>\n",
       "    </tr>\n",
       "    <tr>\n",
       "      <th>17</th>\n",
       "      <td>4</td>\n",
       "      <td>kalyani</td>\n",
       "      <td>22</td>\n",
       "      <td>M</td>\n",
       "      <td>5</td>\n",
       "      <td>priyansh</td>\n",
       "      <td>2 years</td>\n",
       "    </tr>\n",
       "    <tr>\n",
       "      <th>18</th>\n",
       "      <td>4</td>\n",
       "      <td>kalyani</td>\n",
       "      <td>22</td>\n",
       "      <td>M</td>\n",
       "      <td>6</td>\n",
       "      <td>love bhaiya</td>\n",
       "      <td>2 years</td>\n",
       "    </tr>\n",
       "    <tr>\n",
       "      <th>19</th>\n",
       "      <td>4</td>\n",
       "      <td>kalyani</td>\n",
       "      <td>22</td>\n",
       "      <td>M</td>\n",
       "      <td>7</td>\n",
       "      <td>babu bhaiya</td>\n",
       "      <td>2 years</td>\n",
       "    </tr>\n",
       "    <tr>\n",
       "      <th>20</th>\n",
       "      <td>5</td>\n",
       "      <td>mini</td>\n",
       "      <td>22</td>\n",
       "      <td>M</td>\n",
       "      <td>2</td>\n",
       "      <td>adarsh</td>\n",
       "      <td>2 years</td>\n",
       "    </tr>\n",
       "    <tr>\n",
       "      <th>21</th>\n",
       "      <td>5</td>\n",
       "      <td>mini</td>\n",
       "      <td>22</td>\n",
       "      <td>M</td>\n",
       "      <td>4</td>\n",
       "      <td>babu</td>\n",
       "      <td>2 years</td>\n",
       "    </tr>\n",
       "    <tr>\n",
       "      <th>22</th>\n",
       "      <td>5</td>\n",
       "      <td>mini</td>\n",
       "      <td>22</td>\n",
       "      <td>M</td>\n",
       "      <td>5</td>\n",
       "      <td>priyansh</td>\n",
       "      <td>2 years</td>\n",
       "    </tr>\n",
       "    <tr>\n",
       "      <th>23</th>\n",
       "      <td>5</td>\n",
       "      <td>mini</td>\n",
       "      <td>22</td>\n",
       "      <td>M</td>\n",
       "      <td>6</td>\n",
       "      <td>love bhaiya</td>\n",
       "      <td>2 years</td>\n",
       "    </tr>\n",
       "    <tr>\n",
       "      <th>24</th>\n",
       "      <td>5</td>\n",
       "      <td>mini</td>\n",
       "      <td>22</td>\n",
       "      <td>M</td>\n",
       "      <td>7</td>\n",
       "      <td>babu bhaiya</td>\n",
       "      <td>2 years</td>\n",
       "    </tr>\n",
       "  </tbody>\n",
       "</table>\n",
       "</div>"
      ],
      "text/plain": [
       "    nameid     name  age gender  artistid         name experience\n",
       "0        1   sarang   22      M         2       adarsh    2 years\n",
       "1        1   sarang   22      M         4         babu    2 years\n",
       "2        1   sarang   22      M         5     priyansh    2 years\n",
       "3        1   sarang   22      M         6  love bhaiya    2 years\n",
       "4        1   sarang   22      M         7  babu bhaiya    2 years\n",
       "5        2   adarsh   22      M         2       adarsh    2 years\n",
       "6        2   adarsh   22      M         4         babu    2 years\n",
       "7        2   adarsh   22      M         5     priyansh    2 years\n",
       "8        2   adarsh   22      M         6  love bhaiya    2 years\n",
       "9        2   adarsh   22      M         7  babu bhaiya    2 years\n",
       "10       3   adarak   22      M         2       adarsh    2 years\n",
       "11       3   adarak   22      M         4         babu    2 years\n",
       "12       3   adarak   22      M         5     priyansh    2 years\n",
       "13       3   adarak   22      M         6  love bhaiya    2 years\n",
       "14       3   adarak   22      M         7  babu bhaiya    2 years\n",
       "15       4  kalyani   22      M         2       adarsh    2 years\n",
       "16       4  kalyani   22      M         4         babu    2 years\n",
       "17       4  kalyani   22      M         5     priyansh    2 years\n",
       "18       4  kalyani   22      M         6  love bhaiya    2 years\n",
       "19       4  kalyani   22      M         7  babu bhaiya    2 years\n",
       "20       5     mini   22      M         2       adarsh    2 years\n",
       "21       5     mini   22      M         4         babu    2 years\n",
       "22       5     mini   22      M         5     priyansh    2 years\n",
       "23       5     mini   22      M         6  love bhaiya    2 years\n",
       "24       5     mini   22      M         7  babu bhaiya    2 years"
      ]
     },
     "execution_count": 101,
     "metadata": {},
     "output_type": "execute_result"
    }
   ],
   "source": [
    "pd.read_sql_query(\"SELECT * from gunnu3 CROSS JOIN gunnu4\",conn)"
   ]
  },
  {
   "cell_type": "markdown",
   "metadata": {},
   "source": [
    "###### ORDER BY "
   ]
  },
  {
   "cell_type": "raw",
   "metadata": {},
   "source": [
    "The ORDER BY clause comes after the FROM clause. It allows you to sort the result set based on one or more columns in ascending or descending order.\n",
    "\n",
    "In this syntax, you place the column name by which you want to sort after the ORDER BY clause followed by the ASC or DESC keyword."
   ]
  },
  {
   "cell_type": "code",
   "execution_count": 107,
   "metadata": {},
   "outputs": [
    {
     "data": {
      "text/html": [
       "<div>\n",
       "<style scoped>\n",
       "    .dataframe tbody tr th:only-of-type {\n",
       "        vertical-align: middle;\n",
       "    }\n",
       "\n",
       "    .dataframe tbody tr th {\n",
       "        vertical-align: top;\n",
       "    }\n",
       "\n",
       "    .dataframe thead th {\n",
       "        text-align: right;\n",
       "    }\n",
       "</style>\n",
       "<table border=\"1\" class=\"dataframe\">\n",
       "  <thead>\n",
       "    <tr style=\"text-align: right;\">\n",
       "      <th></th>\n",
       "      <th>nameid</th>\n",
       "      <th>name</th>\n",
       "      <th>age</th>\n",
       "      <th>gender</th>\n",
       "    </tr>\n",
       "  </thead>\n",
       "  <tbody>\n",
       "    <tr>\n",
       "      <th>0</th>\n",
       "      <td>5</td>\n",
       "      <td>mini</td>\n",
       "      <td>22</td>\n",
       "      <td>M</td>\n",
       "    </tr>\n",
       "    <tr>\n",
       "      <th>1</th>\n",
       "      <td>4</td>\n",
       "      <td>kalyani</td>\n",
       "      <td>22</td>\n",
       "      <td>M</td>\n",
       "    </tr>\n",
       "    <tr>\n",
       "      <th>2</th>\n",
       "      <td>3</td>\n",
       "      <td>adarak</td>\n",
       "      <td>22</td>\n",
       "      <td>M</td>\n",
       "    </tr>\n",
       "    <tr>\n",
       "      <th>3</th>\n",
       "      <td>2</td>\n",
       "      <td>adarsh</td>\n",
       "      <td>22</td>\n",
       "      <td>M</td>\n",
       "    </tr>\n",
       "    <tr>\n",
       "      <th>4</th>\n",
       "      <td>1</td>\n",
       "      <td>sarang</td>\n",
       "      <td>22</td>\n",
       "      <td>M</td>\n",
       "    </tr>\n",
       "  </tbody>\n",
       "</table>\n",
       "</div>"
      ],
      "text/plain": [
       "   nameid     name  age gender\n",
       "0       5     mini   22      M\n",
       "1       4  kalyani   22      M\n",
       "2       3   adarak   22      M\n",
       "3       2   adarsh   22      M\n",
       "4       1   sarang   22      M"
      ]
     },
     "execution_count": 107,
     "metadata": {},
     "output_type": "execute_result"
    }
   ],
   "source": [
    "pd.read_sql_query(\"select * from gunnu3 order by nameid desc\",conn)"
   ]
  },
  {
   "cell_type": "markdown",
   "metadata": {},
   "source": [
    "###### Group by ======> COUNT,MIN,MAX,SUM,AVG"
   ]
  },
  {
   "cell_type": "raw",
   "metadata": {},
   "source": [
    "The GROUP BY clause returns one row for each group. For each group, you can apply an aggregate function such as MIN, MAX, SUM, COUNT, or AVG to provide more information about each group.\n",
    "\n",
    "SELECT \n",
    "    column_1,\n",
    "    aggregate_function(column_2) \n",
    "FROM \n",
    "    table\n",
    "GROUP BY \n",
    "    column_1,\n",
    "    column_2;\n",
    "    \n",
    "IMP====>>>>>  The GROUP BY clause comes after the FROM clause of the SELECT statement. In case a statement contains a WHERE clause, the GROUP BY clause must come after the WHERE clause."
   ]
  },
  {
   "cell_type": "code",
   "execution_count": 113,
   "metadata": {},
   "outputs": [
    {
     "name": "stdout",
     "output_type": "stream",
     "text": [
      "      name  count(age)\n",
      "0   adarak           1\n",
      "1   adarsh           1\n",
      "2  kalyani           1\n",
      "3     mini           1\n",
      "4   sarang           1\n",
      "      name  min(age)\n",
      "0   adarak        22\n",
      "1   adarsh        22\n",
      "2  kalyani        22\n",
      "3     mini        22\n",
      "4   sarang        22\n",
      "      name  max(age)\n",
      "0   adarak        22\n",
      "1   adarsh        22\n",
      "2  kalyani        22\n",
      "3     mini        22\n",
      "4   sarang        22\n",
      "      name  sum(age)\n",
      "0   adarak        22\n",
      "1   adarsh        22\n",
      "2  kalyani        22\n",
      "3     mini        22\n",
      "4   sarang        22\n",
      "      name  avg(age)\n",
      "0   adarak      22.0\n",
      "1   adarsh      22.0\n",
      "2  kalyani      22.0\n",
      "3     mini      22.0\n",
      "4   sarang      22.0\n"
     ]
    }
   ],
   "source": [
    "print(pd.read_sql_query(\"select name,count(age) from gunnu3 group by name\",conn))\n",
    "print(pd.read_sql_query(\"select name,min(age) from gunnu3 group by name\",conn))\n",
    "print(pd.read_sql_query(\"select name,max(age) from gunnu3 group by name\",conn))\n",
    "print(pd.read_sql_query(\"select name,sum(age) from gunnu3 group by name\",conn))\n",
    "print(pd.read_sql_query(\"select name,avg(age) from gunnu3 group by name\",conn))"
   ]
  },
  {
   "cell_type": "code",
   "execution_count": null,
   "metadata": {},
   "outputs": [],
   "source": []
  }
 ],
 "metadata": {
  "kernelspec": {
   "display_name": "Python 3",
   "language": "python",
   "name": "python3"
  },
  "language_info": {
   "codemirror_mode": {
    "name": "ipython",
    "version": 3
   },
   "file_extension": ".py",
   "mimetype": "text/x-python",
   "name": "python",
   "nbconvert_exporter": "python",
   "pygments_lexer": "ipython3",
   "version": "3.8.5"
  }
 },
 "nbformat": 4,
 "nbformat_minor": 4
}
